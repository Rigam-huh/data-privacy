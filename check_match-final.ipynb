{
 "cells": [
  {
   "cell_type": "code",
   "execution_count": 2,
   "id": "da6aff38",
   "metadata": {},
   "outputs": [],
   "source": [
    "import pandas as pd\n",
    "import numpy as np"
   ]
  },
  {
   "cell_type": "code",
   "execution_count": 3,
   "id": "640ec07f",
   "metadata": {},
   "outputs": [],
   "source": [
    "original_df = pd.read_csv(r\"C:\\Users\\User\\OneDrive\\Documents\\Data_CSV\\data-challenge-original_sorted.csv\")\n",
    "protected_df = pd.read_csv(r\"C:\\Users\\User\\OneDrive\\Documents\\Data_CSV\\protected_data_challenge_sorted.csv\")"
   ]
  },
  {
   "cell_type": "code",
   "execution_count": 4,
   "id": "30665630",
   "metadata": {},
   "outputs": [],
   "source": [
    "#selecting column ratios\n",
    "ratio_columns = [\n",
    "    \"Groceries\", \"Transport\", \"Healthcare\", \"Utilities\",\n",
    "    \"Insurance\", \"Eating_Out\", \"Entertainment\", \"Rent\"\n",
    "]"
   ]
  },
  {
   "cell_type": "code",
   "execution_count": 5,
   "id": "6413ac3e",
   "metadata": {},
   "outputs": [],
   "source": [
    "#filtering to keep only valid ratio columns \n",
    "valid_ratios = [col for col in ratio_columns if col in protected_df.columns and col in original_df.columns]"
   ]
  },
  {
   "cell_type": "code",
   "execution_count": 6,
   "id": "5723da5f",
   "metadata": {},
   "outputs": [],
   "source": [
    "#computing ratio \n",
    "for col in valid_ratios:\n",
    "    protected_df[f\"{col}_to_income\"] = protected_df[col] / protected_df[\"Income\"]\n",
    "    original_df[f\"{col}_to_income\"] = original_df[col] / original_df[\"Income\"]"
   ]
  },
  {
   "cell_type": "code",
   "execution_count": 8,
   "id": "595911f1",
   "metadata": {},
   "outputs": [],
   "source": [
    "#checking matches with function\n",
    "def rows_match(prot_row,orig_row,ratio_tolerance = 0.15):\n",
    "    for col in valid_ratios:\n",
    "        r1 = prot_row[f\"{col}_to_income\"]\n",
    "        r2 = orig_row[f\"{col}_to_income\"]\n",
    "        if not np.isclose(r1,r2,rtol = ratio_tolerance):\n",
    "            return False\n",
    "    if prot_row[\"Occupation\"] != orig_row[\"Occupation\"]:\n",
    "        return False\n",
    "    if prot_row[\"City_Tier\"] != orig_row[\"City_Tier\"]:\n",
    "        return False\n",
    "    return True"
   ]
  },
  {
   "cell_type": "code",
   "execution_count": 9,
   "id": "5d6acd15",
   "metadata": {},
   "outputs": [],
   "source": [
    "#collecting matches\n",
    "matches = []"
   ]
  },
  {
   "cell_type": "code",
   "execution_count": 10,
   "id": "157d355d",
   "metadata": {},
   "outputs": [],
   "source": [
    "# Iterate through protected data \n",
    "for i, prot_row in protected_df.iterrows():\n",
    "    for j, orig_row in original_df.iterrows():\n",
    "        if rows_match(prot_row, orig_row):\n",
    "            matches.append({\n",
    "                \"Protected_Index\": i,\n",
    "                \"Original_Index\": j,\n",
    "                \"Protected_Identifier\": prot_row[\"Identifier\"],\n",
    "                \"Original_Identifier\": orig_row[\"Identifier\"],\n",
    "                \"Protected_Name\": prot_row[\"Name\"],\n",
    "                \"Original_Name\": orig_row[\"Name\"]\n",
    "            })\n",
    "            break  # Stop after first valid match for this protected row"
   ]
  },
  {
   "cell_type": "code",
   "execution_count": 12,
   "id": "5a739fab",
   "metadata": {},
   "outputs": [],
   "source": [
    "matches_df = pd.DataFrame(matches)"
   ]
  },
  {
   "cell_type": "code",
   "execution_count": 14,
   "id": "16102de4",
   "metadata": {},
   "outputs": [
    {
     "name": "stdout",
     "output_type": "stream",
     "text": [
      "Total Matches Found: 19439\n"
     ]
    },
    {
     "data": {
      "text/html": [
       "<div>\n",
       "<style scoped>\n",
       "    .dataframe tbody tr th:only-of-type {\n",
       "        vertical-align: middle;\n",
       "    }\n",
       "\n",
       "    .dataframe tbody tr th {\n",
       "        vertical-align: top;\n",
       "    }\n",
       "\n",
       "    .dataframe thead th {\n",
       "        text-align: right;\n",
       "    }\n",
       "</style>\n",
       "<table border=\"1\" class=\"dataframe\">\n",
       "  <thead>\n",
       "    <tr style=\"text-align: right;\">\n",
       "      <th></th>\n",
       "      <th>Protected_Index</th>\n",
       "      <th>Original_Index</th>\n",
       "      <th>Protected_Identifier</th>\n",
       "      <th>Original_Identifier</th>\n",
       "      <th>Protected_Name</th>\n",
       "      <th>Original_Name</th>\n",
       "    </tr>\n",
       "  </thead>\n",
       "  <tbody>\n",
       "    <tr>\n",
       "      <th>0</th>\n",
       "      <td>0</td>\n",
       "      <td>220</td>\n",
       "      <td>624cc31c096e405e380a419277f92edd</td>\n",
       "      <td>1742</td>\n",
       "      <td>b2a02e833d5fb0a1acec8eac484a5c35</td>\n",
       "      <td>Faqid Sant</td>\n",
       "    </tr>\n",
       "    <tr>\n",
       "      <th>1</th>\n",
       "      <td>1</td>\n",
       "      <td>975</td>\n",
       "      <td>a8f1a245b4c929389f2bb9ce3f362fc6</td>\n",
       "      <td>8215</td>\n",
       "      <td>7b19b2e03de65d3649c37ed89aeb15eb</td>\n",
       "      <td>Samar Modi</td>\n",
       "    </tr>\n",
       "    <tr>\n",
       "      <th>2</th>\n",
       "      <td>2</td>\n",
       "      <td>4665</td>\n",
       "      <td>7601fa252b7ce657d7d621e9686f5521</td>\n",
       "      <td>18415</td>\n",
       "      <td>1f32b8f37b1e36aab60921c7f8f6ea52</td>\n",
       "      <td>Manbir Sami</td>\n",
       "    </tr>\n",
       "    <tr>\n",
       "      <th>3</th>\n",
       "      <td>3</td>\n",
       "      <td>2171</td>\n",
       "      <td>c696ee63588d3c6a521a584091b295d0</td>\n",
       "      <td>17804</td>\n",
       "      <td>6afbc0354b501c51e22b8e5366852b0b</td>\n",
       "      <td>Liam Dey</td>\n",
       "    </tr>\n",
       "    <tr>\n",
       "      <th>4</th>\n",
       "      <td>4</td>\n",
       "      <td>2065</td>\n",
       "      <td>59a2a1627c9c944bf545fdb19efae3e6</td>\n",
       "      <td>17072</td>\n",
       "      <td>d8f9a49bc440b88a5471766e0b037fa8</td>\n",
       "      <td>Manthan Aurora</td>\n",
       "    </tr>\n",
       "    <tr>\n",
       "      <th>...</th>\n",
       "      <td>...</td>\n",
       "      <td>...</td>\n",
       "      <td>...</td>\n",
       "      <td>...</td>\n",
       "      <td>...</td>\n",
       "      <td>...</td>\n",
       "    </tr>\n",
       "    <tr>\n",
       "      <th>19434</th>\n",
       "      <td>19990</td>\n",
       "      <td>12342</td>\n",
       "      <td>f0abb6e7788b8684bf297596aee68968</td>\n",
       "      <td>2647</td>\n",
       "      <td>6202fc771982f26878016a9e823ec054</td>\n",
       "      <td>Keya Jani</td>\n",
       "    </tr>\n",
       "    <tr>\n",
       "      <th>19435</th>\n",
       "      <td>19993</td>\n",
       "      <td>882</td>\n",
       "      <td>34fb8d28735273cc837f6daa8279791f</td>\n",
       "      <td>7400</td>\n",
       "      <td>63cdb2c2dec3b38ba3d567324b430ef4</td>\n",
       "      <td>Zilmil Gaba</td>\n",
       "    </tr>\n",
       "    <tr>\n",
       "      <th>19436</th>\n",
       "      <td>19995</td>\n",
       "      <td>3999</td>\n",
       "      <td>ce35e2cc522aef2e2289c3fe0fe4051a</td>\n",
       "      <td>9110</td>\n",
       "      <td>097104db94bb61b4feaebbe936f23dcf</td>\n",
       "      <td>Libni Shroff</td>\n",
       "    </tr>\n",
       "    <tr>\n",
       "      <th>19437</th>\n",
       "      <td>19997</td>\n",
       "      <td>5928</td>\n",
       "      <td>747c5f566a49464b53287ff9f9d63e49</td>\n",
       "      <td>19076</td>\n",
       "      <td>54f22998d5e82fb556f56f4fd743d850</td>\n",
       "      <td>Lopa Ben</td>\n",
       "    </tr>\n",
       "    <tr>\n",
       "      <th>19438</th>\n",
       "      <td>19998</td>\n",
       "      <td>2009</td>\n",
       "      <td>a8d9fdd50b7cc861de964a82dbb9f2a4</td>\n",
       "      <td>16621</td>\n",
       "      <td>89f9e5eef249ad278f33b00ae9488164</td>\n",
       "      <td>Pratyush Dara</td>\n",
       "    </tr>\n",
       "  </tbody>\n",
       "</table>\n",
       "<p>19439 rows × 6 columns</p>\n",
       "</div>"
      ],
      "text/plain": [
       "       Protected_Index  Original_Index              Protected_Identifier  \\\n",
       "0                    0             220  624cc31c096e405e380a419277f92edd   \n",
       "1                    1             975  a8f1a245b4c929389f2bb9ce3f362fc6   \n",
       "2                    2            4665  7601fa252b7ce657d7d621e9686f5521   \n",
       "3                    3            2171  c696ee63588d3c6a521a584091b295d0   \n",
       "4                    4            2065  59a2a1627c9c944bf545fdb19efae3e6   \n",
       "...                ...             ...                               ...   \n",
       "19434            19990           12342  f0abb6e7788b8684bf297596aee68968   \n",
       "19435            19993             882  34fb8d28735273cc837f6daa8279791f   \n",
       "19436            19995            3999  ce35e2cc522aef2e2289c3fe0fe4051a   \n",
       "19437            19997            5928  747c5f566a49464b53287ff9f9d63e49   \n",
       "19438            19998            2009  a8d9fdd50b7cc861de964a82dbb9f2a4   \n",
       "\n",
       "       Original_Identifier                    Protected_Name   Original_Name  \n",
       "0                     1742  b2a02e833d5fb0a1acec8eac484a5c35      Faqid Sant  \n",
       "1                     8215  7b19b2e03de65d3649c37ed89aeb15eb      Samar Modi  \n",
       "2                    18415  1f32b8f37b1e36aab60921c7f8f6ea52     Manbir Sami  \n",
       "3                    17804  6afbc0354b501c51e22b8e5366852b0b        Liam Dey  \n",
       "4                    17072  d8f9a49bc440b88a5471766e0b037fa8  Manthan Aurora  \n",
       "...                    ...                               ...             ...  \n",
       "19434                 2647  6202fc771982f26878016a9e823ec054       Keya Jani  \n",
       "19435                 7400  63cdb2c2dec3b38ba3d567324b430ef4     Zilmil Gaba  \n",
       "19436                 9110  097104db94bb61b4feaebbe936f23dcf    Libni Shroff  \n",
       "19437                19076  54f22998d5e82fb556f56f4fd743d850        Lopa Ben  \n",
       "19438                16621  89f9e5eef249ad278f33b00ae9488164   Pratyush Dara  \n",
       "\n",
       "[19439 rows x 6 columns]"
      ]
     },
     "execution_count": 14,
     "metadata": {},
     "output_type": "execute_result"
    }
   ],
   "source": [
    "print(\"Total Matches Found:\", len(matches_df))\n",
    "matches_df"
   ]
  },
  {
   "cell_type": "code",
   "execution_count": 15,
   "id": "654ab925",
   "metadata": {},
   "outputs": [],
   "source": [
    "matches_df.to_csv(r\"C:\\Users\\User\\OneDrive\\Documents\\Data_CSV\\matches.csv\")"
   ]
  }
 ],
 "metadata": {
  "kernelspec": {
   "display_name": "my_venv",
   "language": "python",
   "name": "python3"
  },
  "language_info": {
   "codemirror_mode": {
    "name": "ipython",
    "version": 3
   },
   "file_extension": ".py",
   "mimetype": "text/x-python",
   "name": "python",
   "nbconvert_exporter": "python",
   "pygments_lexer": "ipython3",
   "version": "3.13.3"
  }
 },
 "nbformat": 4,
 "nbformat_minor": 5
}
